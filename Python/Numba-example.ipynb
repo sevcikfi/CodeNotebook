{
 "cells": [
  {
   "cell_type": "markdown",
   "id": "66bacc90",
   "metadata": {},
   "source": [
    "\n",
    "Copy from this tutorial https://www.youtube.com/watch?v=x58W9A2lnQc"
   ]
  },
  {
   "cell_type": "code",
   "execution_count": 4,
   "id": "7d9c176d",
   "metadata": {},
   "outputs": [
    {
     "name": "stdout",
     "output_type": "stream",
     "text": [
      "test\n"
     ]
    }
   ],
   "source": [
    "print(\"test\")"
   ]
  }
 ],
 "metadata": {
  "kernelspec": {
   "display_name": "Python 3.9.2 ('mainvenv': venv)",
   "language": "python",
   "name": "python3"
  },
  "language_info": {
   "codemirror_mode": {
    "name": "ipython",
    "version": 3
   },
   "file_extension": ".py",
   "mimetype": "text/x-python",
   "name": "python",
   "nbconvert_exporter": "python",
   "pygments_lexer": "ipython3",
   "version": "3.9.2"
  },
  "vscode": {
   "interpreter": {
    "hash": "fa817aabab2d0ee7e22a33fbee23e66afc7a180ac4a6adc22034c5d050a09170"
   }
  }
 },
 "nbformat": 4,
 "nbformat_minor": 5
}
